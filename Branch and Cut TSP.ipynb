{
 "cells": [
  {
   "cell_type": "markdown",
   "metadata": {},
   "source": [
    "### Pure cutting planes approach for TSP!"
   ]
  },
  {
   "cell_type": "code",
   "execution_count": null,
   "metadata": {},
   "outputs": [],
   "source": [
    "!pip install mip"
   ]
  },
  {
   "cell_type": "code",
   "execution_count": 1,
   "metadata": {},
   "outputs": [],
   "source": [
    "from itertools import product\n",
    "from networkx import minimum_cut, DiGraph\n",
    "from mip import Model, xsum, BINARY, OptimizationStatus, CutType"
   ]
  },
  {
   "cell_type": "code",
   "execution_count": 2,
   "metadata": {},
   "outputs": [],
   "source": [
    "N = [\"a\", \"b\", \"c\", \"d\", \"e\", \"f\", \"g\"]\n",
    "A = { (\"a\", \"d\"): 56, (\"d\", \"a\"): 67, (\"a\", \"b\"): 49, (\"b\", \"a\"): 50,\n",
    "      (\"f\", \"c\"): 35, (\"g\", \"b\"): 35, (\"g\", \"b\"): 35, (\"b\", \"g\"): 25,\n",
    "      (\"a\", \"c\"): 80, (\"c\", \"a\"): 99, (\"e\", \"f\"): 20, (\"f\", \"e\"): 20,\n",
    "      (\"g\", \"e\"): 38, (\"e\", \"g\"): 49, (\"g\", \"f\"): 37, (\"f\", \"g\"): 32,\n",
    "      (\"b\", \"e\"): 21, (\"e\", \"b\"): 30, (\"a\", \"g\"): 47, (\"g\", \"a\"): 68,\n",
    "      (\"d\", \"c\"): 37, (\"c\", \"d\"): 52, (\"d\", \"e\"): 15, (\"e\", \"d\"): 20,\n",
    "      (\"d\", \"b\"): 39, (\"b\", \"d\"): 37, (\"c\", \"f\"): 35}"
   ]
  },
  {
   "cell_type": "code",
   "execution_count": 3,
   "metadata": {},
   "outputs": [],
   "source": [
    "Aout = {n : [a for a in A if a[0]==n] for n in N}\n",
    "Ain  = {n : [a for a in A if a[1]==n] for n in N}"
   ]
  },
  {
   "cell_type": "code",
   "execution_count": 6,
   "metadata": {},
   "outputs": [
    {
     "name": "stdout",
     "output_type": "stream",
     "text": [
      "status: OptimizationStatus.OPTIMAL, objective value: 237.0\n",
      "status: OptimizationStatus.OPTIMAL, objective value: 261.0\n",
      "status: OptimizationStatus.OPTIMAL, objective value: 261.0\n",
      "status: OptimizationStatus.OPTIMAL, objective value: 262.0\n"
     ]
    }
   ],
   "source": [
    "m = Model()\n",
    "\n",
    "x = {a : m.add_var(name = \"x({},{})\".format(a[0],a[1]), var_type = BINARY) for a in A}\n",
    "\n",
    "m.objective = xsum(c*x[a] for a,c in A.items())\n",
    "\n",
    "for n in N:\n",
    "    m += xsum(x[a] for a in Aout[n]) == 1, \"out({})\".format(n)\n",
    "    m += xsum(x[a] for a in Ain[n])  == 1, \"in({})\".format(n)\n",
    "    \n",
    "newConstraints = True\n",
    "\n",
    "while newConstraints:\n",
    "    m.optimize(relax = True)\n",
    "    print(\"status: {}, objective value: {}\".format(m.status, m.objective_value))\n",
    "    \n",
    "    G = DiGraph()\n",
    "    for a in A:\n",
    "        G.add_edge(a[0], a[1], capacity = x[a].x)\n",
    "        \n",
    "    newConstraints = False\n",
    "    for (n1,n2) in [(i, j) for (i, j) in product(N, N) if i!= j]:\n",
    "        cut_value, (S, NS) = minimum_cut(G, n1, n2)\n",
    "        if cut_value <= 0.99:\n",
    "            m += (xsum(x[a] for a in A if (a[0] in S and a[1] in S)) <= len(S) - 1)\n",
    "            newConstraints = True\n",
    "    if not newConstraints and m.solver_name.lower() == 'cbc':\n",
    "        cp = m.generate_cuts([CutType.GOMORY, CutType.MIR, CutType.ZERO_HALF, CutType.KNAPSACK_COVER])\n",
    "        \n",
    "        if cp.cuts:\n",
    "            m += cp\n",
    "            newConstraints = True\n",
    "        "
   ]
  },
  {
   "cell_type": "markdown",
   "metadata": {},
   "source": [
    "### Branch and Cut TSP!"
   ]
  },
  {
   "cell_type": "code",
   "execution_count": 2,
   "metadata": {},
   "outputs": [],
   "source": [
    "from typing import List, Tuple\n",
    "from random import seed, randint\n",
    "from itertools import product\n",
    "from math import sqrt\n",
    "import networkx as nx\n",
    "from mip import Model, xsum, BINARY, minimize, ConstrsGenerator, CutPool"
   ]
  },
  {
   "cell_type": "code",
   "execution_count": 13,
   "metadata": {},
   "outputs": [],
   "source": [
    "class SubTourCutGenerator(ConstrsGenerator):\n",
    "    def __init__(self, Fl: List[Tuple[int, int]], x_, V_):\n",
    "        self.F, self.x, self.V = Fl, x_, V_\n",
    "        \n",
    "    def generate_constrs(self, model: Model, depth: int = 0, npass: int = 0):\n",
    "        xf, V_, cp, G = model.translate(self.x), self.V, CutPool(), nx.DiGraph()\n",
    "        \n",
    "        for (u,v) in [(k,l) for (k,l) in product(V_, V_) if k!=l and xf[k][l]]:\n",
    "            G.add_edge(u, v, capacity = xf[u][v].x)\n",
    "        \n",
    "        for (u,v) in F:\n",
    "            val, (S, NS) = nx.minimum_cut(G, u, v)\n",
    "            if val <= 0.99:\n",
    "                aInS = [(xf[i][j], xf[i][j].x) for (i,j) in product (V_, V_) if i != j and xf[i][j] and i in S and j in S]\n",
    "                if sum(f for v, f in aInS) >= (len(S) - 1)+1e-4:\n",
    "                    cut = xsum(1.0*v for v, fm in aInS) <= len(S) - 1\n",
    "                    cp.add(cut)\n",
    "                    if len(cp.cuts) > 256:\n",
    "                        for cut in cp.cuts:\n",
    "                            model += cut\n",
    "                            \n",
    "                        return\n",
    "        \n",
    "        for cut in cp.cuts:\n",
    "            model += cut\n",
    "            \n",
    "                        \n",
    "        "
   ]
  },
  {
   "cell_type": "code",
   "execution_count": 14,
   "metadata": {},
   "outputs": [
    {
     "name": "stdout",
     "output_type": "stream",
     "text": [
      "status : OptimizationStatus.OPTIMAL route length 400 \n"
     ]
    }
   ],
   "source": [
    "n = 30 # number of points\n",
    "V = set(range(n))\n",
    "seed(0)\n",
    "p = [(randint(1, 100), randint(1,100)) for i in V] # coordinates\n",
    "Arcs = [(i,j) for (i,j) in product(V, V) if i != j]\n",
    "\n",
    "# distance matrix\n",
    "c = [[round(sqrt((p[i][0]-p[j][0])**2 + (p[i][1]-p[j][1])**2)) for j in V] for i in V]\n",
    "\n",
    "model = Model()\n",
    "\n",
    "# binary variable indicating arc(i,j) is used on the route or not\n",
    "x = [[model.add_var(var_type = BINARY) for j in V] for i in V]\n",
    "\n",
    "# continuous variable to prevent the sub tour and each city will have a different sequential id in the planned route\n",
    "y = [model.add_var() for i in V]\n",
    "\n",
    "# objective function minimizes the distance\n",
    "\n",
    "model.objective = minimize(xsum(c[i][j]*x[i][j] for (i,j) in Arcs))\n",
    "\n",
    "# constraints : leave each city only once\n",
    "for i in V:\n",
    "    model += xsum(x[i][j] for j in V - {i}) == 1\n",
    "\n",
    "# constraints : enter each city once\n",
    "for i in V:\n",
    "    model += xsum(x[j][i] for j in V - {i}) == 1\n",
    "    \n",
    "# subtour elimination\n",
    "\n",
    "for (i,j) in product(V - {0}, V - {0}):\n",
    "    if i != j:\n",
    "        model += y[i] - (n+1)*x[i][j] >= y[j] - n\n",
    "        \n",
    "# no subtours of size 2\n",
    "\n",
    "for (i,j) in Arcs:\n",
    "    model += x[i][j] + x[j][i] <= 1\n",
    "    \n",
    "# computing farthest point to each node and this will be checked first for isolated subtours\n",
    "\n",
    "F, G = [], nx.DiGraph()\n",
    "\n",
    "for (i,j) in Arcs:\n",
    "    G.add_edge(i, j, weight = c[i][j])\n",
    "\n",
    "for i in V:\n",
    "    P, D = nx.dijkstra_predecessor_and_distance(G, source = i)\n",
    "    DS = list(D.items())\n",
    "    DS.sort(key = lambda x:x[1])\n",
    "    F.append((i, DS[-1][0]))\n",
    "    \n",
    "\n",
    "model.cuts_generator = SubTourCutGenerator(F, x, V)\n",
    "model.optimize()\n",
    "\n",
    "print('status : %s route length %g ' % (model.status, model.objective_value ))"
   ]
  },
  {
   "cell_type": "code",
   "execution_count": null,
   "metadata": {},
   "outputs": [],
   "source": []
  },
  {
   "cell_type": "code",
   "execution_count": null,
   "metadata": {},
   "outputs": [],
   "source": []
  },
  {
   "cell_type": "code",
   "execution_count": null,
   "metadata": {},
   "outputs": [],
   "source": []
  },
  {
   "cell_type": "code",
   "execution_count": null,
   "metadata": {},
   "outputs": [],
   "source": []
  },
  {
   "cell_type": "code",
   "execution_count": null,
   "metadata": {},
   "outputs": [],
   "source": []
  },
  {
   "cell_type": "code",
   "execution_count": null,
   "metadata": {},
   "outputs": [],
   "source": []
  }
 ],
 "metadata": {
  "kernelspec": {
   "display_name": "Python 3",
   "language": "python",
   "name": "python3"
  },
  "language_info": {
   "codemirror_mode": {
    "name": "ipython",
    "version": 3
   },
   "file_extension": ".py",
   "mimetype": "text/x-python",
   "name": "python",
   "nbconvert_exporter": "python",
   "pygments_lexer": "ipython3",
   "version": "3.8.3"
  }
 },
 "nbformat": 4,
 "nbformat_minor": 4
}
