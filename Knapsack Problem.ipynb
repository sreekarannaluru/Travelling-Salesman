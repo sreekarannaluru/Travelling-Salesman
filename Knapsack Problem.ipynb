{
 "cells": [
  {
   "cell_type": "markdown",
   "metadata": {},
   "source": [
    "## 0-1 Knapsack Problem using Naive Recursion"
   ]
  },
  {
   "cell_type": "code",
   "execution_count": 1,
   "metadata": {},
   "outputs": [],
   "source": [
    "# A naive recursive implementation of 0-1 knapsack problem\n",
    "\n",
    "# Returns a maximum value that can be put in a Knapsack of capacity W\n",
    "\n",
    "def Knapsack(W, wt, val, n):\n",
    "    \n",
    "    # base case\n",
    "    if n == 0 or W == 0:\n",
    "        return 0\n",
    "    \n",
    "    # If the weight of nth item is more than Knapsack capacity W, then this cannot be included in optimal solution\n",
    "    \n",
    "    if(wt[n-1] > W):\n",
    "        return Knapsack(W, wt, val, n-1)\n",
    "    \n",
    "    # return maximum of two cases\n",
    "    # 1) nth item included\n",
    "    # 2) not included\n",
    "    \n",
    "    else:\n",
    "        return max(val[n-1] + Knapsack(W-wt[n-1], wt, val, n-1), Knapsack(W, wt, val, n-1))\n",
    "    \n",
    "    # end of the function\n",
    "    "
   ]
  },
  {
   "cell_type": "code",
   "execution_count": 2,
   "metadata": {},
   "outputs": [],
   "source": [
    "# Testing the function\n",
    "\n",
    "val = [60, 100, 120]\n",
    "wt = [10, 20, 30]\n",
    "W = 50\n",
    "n = len(val)"
   ]
  },
  {
   "cell_type": "code",
   "execution_count": 3,
   "metadata": {},
   "outputs": [
    {
     "name": "stdout",
     "output_type": "stream",
     "text": [
      "220\n"
     ]
    }
   ],
   "source": [
    "print(Knapsack(W, wt, val, n))"
   ]
  },
  {
   "cell_type": "markdown",
   "metadata": {},
   "source": [
    "## 0-1 Knapsack Problem using Greedy Algorithm"
   ]
  },
  {
   "cell_type": "code",
   "execution_count": 4,
   "metadata": {},
   "outputs": [],
   "source": [
    "# Knapsack problem using Dynamic Programming\n",
    "\n",
    "def Knapsack(W, wt, val, n):\n",
    "    \n",
    "    K = [[0 for i in range(W+1)] for i in range(n+1)]\n",
    "    \n",
    "    # Build table K[][] in a bottom up manner\n",
    "    \n",
    "    for i in range(n+1):\n",
    "        for w in range(W+1):\n",
    "            if i == 0 or w == 0:\n",
    "                K[i][w] = 0\n",
    "            elif wt[i-1] <= w:\n",
    "                K[i][w] = max(val[i-1] + K[i-1][w-wt[i-1]], K[i-1][w])\n",
    "            else:\n",
    "                K[i][w] = K[i-1][w]\n",
    "                \n",
    "    return K[n][W]\n",
    "   "
   ]
  },
  {
   "cell_type": "code",
   "execution_count": 5,
   "metadata": {},
   "outputs": [
    {
     "name": "stdout",
     "output_type": "stream",
     "text": [
      "220\n"
     ]
    }
   ],
   "source": [
    "# Driver program to test above function\n",
    "\n",
    "val = [60, 100, 120]\n",
    "wt = [10, 20, 30]\n",
    "W = 50\n",
    "n = len(val)\n",
    "\n",
    "print(Knapsack(W, wt, val, n))"
   ]
  },
  {
   "cell_type": "markdown",
   "metadata": {},
   "source": [
    "## Fractional Knapsack Problem with Greedy Algorithm"
   ]
  },
  {
   "cell_type": "markdown",
   "metadata": {},
   "source": [
    "#### Problem Description\n",
    "\n",
    "#### In the fractional knapsack problem, we are given a set of n items. Each item i has a value v(i) and a weight w(i) where 0 <= i < n. We are given a maximum weight W. The problem is to find how much of each item we should take such that the total weight does not exceed W and the total value is maximized. Thus, we want to find f such that sum of v(i)f(i) over all i is maximized, w(i)f(i) <= W for all i and 0 <= f(i) <= 1 for all i.\n",
    "\n",
    "#### Problem Solution\n",
    "1. The function fractional_knapsack is defined.\n",
    "2. It takes three arguments: two lists value and weight; and a number capacity.\n",
    "3. It returns (max_value, fractions) where max_value is the maximum value of items with total weight not more than capacity.\n",
    "4. fractions is a list where fractions[i] is the fraction that should be taken of item i, where 0 <= i < total number of items.\n",
    "5. The function works by choosing an item from the remaining items that has the maximum value to weight ratio.\n",
    "6. If the knapsack can include the entire weight of the item, then the full amount of the item is added to the knapsack.\n",
    "7. If not, then only a fraction of this item is added such that the knapsack becomes full.\n",
    "8. The above three steps are repeated until the knapsack becomes full, i.e. the total weight reaches the maximum weight."
   ]
  },
  {
   "cell_type": "code",
   "execution_count": 14,
   "metadata": {},
   "outputs": [],
   "source": [
    "def fractional_knapsack(value, weight, capacity):\n",
    "    \n",
    "    # returns maximum value of the items and their fractional weights.\n",
    "    # (max_values, fractions) is returned where max_value is maximum value of items with total weight < capacity\n",
    "    # fractions[i] is the list of fractions corresponding to an item.\n",
    "    # value[i] is the valueof item and weight[i] is the weight of item.\n",
    "    \n",
    "    # index = [0, 1, 2, 3, ......, n]\n",
    "    index = list(range(len(value)))\n",
    "    \n",
    "    ratio = [v/w for v,w in zip(value, weight)]\n",
    "    \n",
    "    # index is sorted according to value to weight ratio in descending order\n",
    "    \n",
    "    index.sort(key = lambda i : ratio[i], reverse = True)\n",
    "    \n",
    "    max_value = 0\n",
    "    fractions = [0] * len(value)\n",
    "    for i in index:\n",
    "        if weight[i] <= capacity:\n",
    "            fractions[i] = 1\n",
    "            max_value += value[i]\n",
    "            capacity -= weight[i]\n",
    "            \n",
    "        else:\n",
    "            fractions[i] = capacity/weight[i]\n",
    "            max_value += value[i]*capacity/weight[i]\n",
    "            break\n",
    "            \n",
    "    return max_value, fractions\n",
    "    \n",
    "    "
   ]
  },
  {
   "cell_type": "code",
   "execution_count": 17,
   "metadata": {},
   "outputs": [
    {
     "name": "stdout",
     "output_type": "stream",
     "text": [
      "Enter the number of items: 3\n",
      "Enter the value of the 3 items in order:60 100 120\n",
      "Enter the weight of the 3 in order:10 20 30\n",
      "Enter maximum capacity:50\n",
      "The maximum value of items that can be carried: 240.0\n",
      "The fractions in which the items should be taken: [1, 1, 0.6666666666666666]\n"
     ]
    }
   ],
   "source": [
    "# Taking the input\n",
    "\n",
    "n = int(input(\"Enter the number of items: \"))\n",
    "\n",
    "value = input(\"Enter the value of the {} items in order:\".format(n)).split()\n",
    "value = [int(v) for v in value]\n",
    "\n",
    "weight = input(\"Enter the weight of the {} in order:\". format(n)).split()\n",
    "weight = [int(w) for w in weight]\n",
    "\n",
    "capacity = int(input(\"Enter maximum capacity:\"))\n",
    "\n",
    "max_value, fractions = fractional_knapsack(value, weight, capacity)\n",
    "\n",
    "print('The maximum value of items that can be carried:', max_value)\n",
    "print('The fractions in which the items should be taken:', fractions)\n"
   ]
  },
  {
   "cell_type": "markdown",
   "metadata": {},
   "source": [
    "### You can see the difference between the maximum value of items with and without considering fractions"
   ]
  },
  {
   "cell_type": "markdown",
   "metadata": {},
   "source": [
    "## References:\n",
    "\n",
    "### https://www.sanfoundry.com/python-program-solve-fractional-knapsack-problem-using-greedy-algorithm/\n",
    "### https://www.geeksforgeeks.org/python-program-for-dynamic-programming-set-10-0-1-knapsack-problem/"
   ]
  },
  {
   "cell_type": "code",
   "execution_count": null,
   "metadata": {},
   "outputs": [],
   "source": []
  },
  {
   "cell_type": "code",
   "execution_count": null,
   "metadata": {},
   "outputs": [],
   "source": []
  },
  {
   "cell_type": "code",
   "execution_count": null,
   "metadata": {},
   "outputs": [],
   "source": []
  }
 ],
 "metadata": {
  "kernelspec": {
   "display_name": "Python 3",
   "language": "python",
   "name": "python3"
  },
  "language_info": {
   "codemirror_mode": {
    "name": "ipython",
    "version": 3
   },
   "file_extension": ".py",
   "mimetype": "text/x-python",
   "name": "python",
   "nbconvert_exporter": "python",
   "pygments_lexer": "ipython3",
   "version": "3.8.3"
  }
 },
 "nbformat": 4,
 "nbformat_minor": 4
}
