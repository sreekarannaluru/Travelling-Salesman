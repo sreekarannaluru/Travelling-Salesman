{
 "cells": [
  {
   "cell_type": "markdown",
   "metadata": {},
   "source": [
    "## Branch and Bound in TSP!!!"
   ]
  },
  {
   "cell_type": "code",
   "execution_count": 1,
   "metadata": {},
   "outputs": [],
   "source": [
    "import math"
   ]
  },
  {
   "cell_type": "code",
   "execution_count": 2,
   "metadata": {},
   "outputs": [],
   "source": [
    "# float('inf') acts as an upper bound value for comparision. Useful for calculating lowest values for something(path routes)\n",
    "\n",
    "max_size = float('inf')\n",
    "\n",
    "# Function to copy temporary solution to the final solution\n",
    "\n",
    "def CopyToFinal(curr_path):\n",
    "    final_path[:N+1] = curr_path[:]\n",
    "    final_path[N] = curr_path[0]\n",
    "    \n",
    "# Function to find minimum edge cost having an end at vertex i\n",
    "\n",
    "def FirstMin(adj, i):\n",
    "    min = max_size\n",
    "    for k in range(N):\n",
    "        if adj[i][k] < min and i != k:\n",
    "            min = adj[i][k]\n",
    "    return min\n",
    "\n",
    "# Function to find second minimum edge cost having an end at vertex i\n",
    "\n",
    "def SecondMin(adj, i):\n",
    "    first, second = max_size, max_size\n",
    "    for j in range(N):\n",
    "        if i == j:\n",
    "            continue\n",
    "        if adj[i][j] < first:\n",
    "            second = first\n",
    "            first = adj[i][j]\n",
    "        elif(adj[i][j] < second and first != adj[i][j]):\n",
    "            second = adj[i][j]\n",
    "    return second"
   ]
  },
  {
   "cell_type": "code",
   "execution_count": 3,
   "metadata": {},
   "outputs": [],
   "source": [
    "# functions that takes as arguments \n",
    "# curr_bound -> lower bound of the root node\n",
    "# curr_weight -> stores weight of the path so far\n",
    "# level -> current level while moving \n",
    "# in the search space tree \n",
    "# curr_path[] -> path where solution is being stored\n",
    "# which would later be copied to final path.\n",
    "\n",
    "def TSPRec(adj, curr_bound, curr_weight, level, curr_path, visited):\n",
    "    global final_res\n",
    "    \n",
    "    # base case is when we have reached alll the N nodes\n",
    "    # which means we have covered all the nodes.\n",
    "    \n",
    "    if level == N:\n",
    "        \n",
    "        # check of there is an edge from last vertex to first vertex\n",
    "        \n",
    "        if adj[curr_path[level-1]][curr_path[0]] != 0:\n",
    "            \n",
    "            # curr_res has the total weight of the solution we got\n",
    "            \n",
    "            curr_res = curr_weight + adj[curr_path[level-1]][curr_path[0]]\n",
    "            \n",
    "            if curr_res < final_res:\n",
    "                CopyToFinal(curr_path)\n",
    "                final_res = curr_res\n",
    "        \n",
    "        return \n",
    "        \n",
    "    # for any other level iterate all vertices \n",
    "    # to build the search space tree recursively\n",
    "\n",
    "    for i in range(N):\n",
    "        if(adj[curr_path[level-1]][i] != 0 and visited[i] == False):\n",
    "            temp = curr_bound\n",
    "            curr_weight += adj[curr_path[level-1]][i]\n",
    "\n",
    "            # for level 2 from other levels\n",
    "            if level == 1:\n",
    "                curr_bound -= ((FirstMin(adj, curr_path[level - 1]) + FirstMin(adj, i)) / 2)\n",
    "            else:\n",
    "                curr_bound -= ((SecondMin(adj, curr_path[level - 1]) + FirstMin(adj, i)) / 2)\n",
    "\n",
    "            # curr_weight + curr_ bound is the actual lower bound for the node that we have arrived on\n",
    "\n",
    "            # If lower_bound < final_res we need to explore the node further\n",
    "\n",
    "            if curr_bound + curr_weight < final_res:\n",
    "                curr_path[level] = i\n",
    "                visited[i] = True\n",
    "\n",
    "                # call TSPRec for next level\n",
    "                TSPRec(adj, curr_bound, curr_weight, level + 1, curr_path, visited)\n",
    "\n",
    "            # Else we have to prune the node by resetting curr_weight and curr_bound\n",
    "\n",
    "            curr_weight -= adj[curr_path[level-1]][i]\n",
    "            curr_bound = temp\n",
    "\n",
    "            # Also reset the visited arrays\n",
    "\n",
    "            visited = [False]*len(visited)\n",
    "            for j in range(level):\n",
    "                if curr_path[j] != -1:\n",
    "                    visited[curr_path[j]] = True\n",
    " "
   ]
  },
  {
   "cell_type": "code",
   "execution_count": 4,
   "metadata": {},
   "outputs": [],
   "source": [
    "# This function sets up final path\n",
    "\n",
    "def TSP(adj):\n",
    "    \n",
    "    # Calculate the initial lower bound for the root node using 1/2* (sum of first min + sum of second min) for all edges.\n",
    "    # Also initialize the curr_path and and visited array\n",
    "    \n",
    "    curr_bound = 0\n",
    "    curr_path = [-1]*(N+1)\n",
    "    visited = [False]*N\n",
    "    \n",
    "    # Compute initial bound \n",
    "    \n",
    "    for i in range(N):\n",
    "        curr_bound += 1/2*(FirstMin(adj, 1) + SecondMin(adj, i))\n",
    "        \n",
    "    # Rounding off the lower bound to an integer \n",
    "    \n",
    "    curr_bound = math.ceil(curr_bound/2)\n",
    "    \n",
    "    # We start at vertex 1 so the first vertex in curr_path is 0\n",
    "    \n",
    "    visited[0] = True\n",
    "    curr_path[0] = 0\n",
    "    \n",
    "    # Call TSPRec for curr_weight = 0 and level = 1\n",
    "    TSPRec(adj, curr_bound, 0, 1, curr_path, visited)\n",
    "    "
   ]
  },
  {
   "cell_type": "code",
   "execution_count": 5,
   "metadata": {},
   "outputs": [],
   "source": [
    "# Driver code\n",
    "  \n",
    "# Adjacency matrix for the given graph\n",
    "adj = [[0, 10, 15, 20],\n",
    "       [10, 0, 35, 25],\n",
    "       [15, 35, 0, 30],\n",
    "       [20, 25, 30, 0]]\n",
    "N = 4\n",
    "  \n",
    "# final_path[] stores the final solution \n",
    "# i.e. the // path of the salesman.\n",
    "final_path = [None] * (N + 1)\n",
    "  \n",
    "# visited[] keeps track of the already\n",
    "# visited nodes in a particular path\n",
    "visited = [False] * N\n",
    "  \n",
    "# Stores the final minimum weight\n",
    "# of shortest tour.\n",
    "final_res = max_size\n",
    "  \n",
    "TSP(adj)   "
   ]
  },
  {
   "cell_type": "code",
   "execution_count": 6,
   "metadata": {},
   "outputs": [
    {
     "name": "stdout",
     "output_type": "stream",
     "text": [
      "Minimum cost : 80\n",
      "Path Taken :  0 1 3 2 0 "
     ]
    }
   ],
   "source": [
    "print(\"Minimum cost :\", final_res)\n",
    "print(\"Path Taken : \", end = ' ')\n",
    "for i in range(N + 1):\n",
    "    print(final_path[i], end = ' ')"
   ]
  },
  {
   "cell_type": "code",
   "execution_count": null,
   "metadata": {},
   "outputs": [],
   "source": []
  },
  {
   "cell_type": "code",
   "execution_count": null,
   "metadata": {},
   "outputs": [],
   "source": []
  },
  {
   "cell_type": "code",
   "execution_count": null,
   "metadata": {},
   "outputs": [],
   "source": []
  },
  {
   "cell_type": "code",
   "execution_count": null,
   "metadata": {},
   "outputs": [],
   "source": []
  },
  {
   "cell_type": "code",
   "execution_count": null,
   "metadata": {},
   "outputs": [],
   "source": []
  },
  {
   "cell_type": "code",
   "execution_count": null,
   "metadata": {},
   "outputs": [],
   "source": []
  },
  {
   "cell_type": "code",
   "execution_count": null,
   "metadata": {},
   "outputs": [],
   "source": []
  },
  {
   "cell_type": "code",
   "execution_count": null,
   "metadata": {},
   "outputs": [],
   "source": []
  },
  {
   "cell_type": "code",
   "execution_count": null,
   "metadata": {},
   "outputs": [],
   "source": []
  },
  {
   "cell_type": "code",
   "execution_count": null,
   "metadata": {},
   "outputs": [],
   "source": []
  },
  {
   "cell_type": "code",
   "execution_count": null,
   "metadata": {},
   "outputs": [],
   "source": []
  },
  {
   "cell_type": "code",
   "execution_count": null,
   "metadata": {},
   "outputs": [],
   "source": []
  },
  {
   "cell_type": "code",
   "execution_count": null,
   "metadata": {},
   "outputs": [],
   "source": []
  },
  {
   "cell_type": "code",
   "execution_count": null,
   "metadata": {},
   "outputs": [],
   "source": []
  }
 ],
 "metadata": {
  "kernelspec": {
   "display_name": "Python 3",
   "language": "python",
   "name": "python3"
  },
  "language_info": {
   "codemirror_mode": {
    "name": "ipython",
    "version": 3
   },
   "file_extension": ".py",
   "mimetype": "text/x-python",
   "name": "python",
   "nbconvert_exporter": "python",
   "pygments_lexer": "ipython3",
   "version": "3.8.3"
  }
 },
 "nbformat": 4,
 "nbformat_minor": 4
}
